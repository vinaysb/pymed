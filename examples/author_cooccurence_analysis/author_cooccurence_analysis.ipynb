{
 "cells": [
  {
   "cell_type": "markdown",
   "metadata": {},
   "source": [
    "# Example - Author co-occurrence analysis\n",
    "This example retrieves articles from PubMed and uses the author information to construct a nodes and edges list that can be used for an author co-occurrence analysis (e.g. with a tool like Gephi). A nodes list is created by taking every unique author found in the result set, and the edges list is created by creating a list of all unique combinations of authors. The combinations of authors is also counted so that there is a \"weight\" column available that indicates the number of times these authors co-occurred. The CSV files produced by this script can be loaded directly into Gephi for further processing.\n",
    "\n",
    "## Why?\n",
    "Analyzing all the literature in a field can be a very complicated task. First steps could be to visualize the entire field in a graph. One of these visualizations is the author co-occurrence graph, that shows how authors are inter-connected. The graph helps to answer questions like: What authors connect multiple research groups together?\n",
    "\n",
    "## Example - Field of occupational health\n",
    "Here we showcase a visual representation of the field of occupational health:"
   ]
  },
  {
   "cell_type": "code",
   "execution_count": null,
   "metadata": {},
   "outputs": [],
   "source": [
    "!pip install networkx ipysigma"
   ]
  },
  {
   "cell_type": "code",
   "execution_count": 1,
   "metadata": {},
   "outputs": [
    {
     "data": {
      "application/vnd.jupyter.widget-view+json": {
       "model_id": "54d9bd7cb47b487ba2cb314dc8be5a2b",
       "version_major": 2,
       "version_minor": 0
      },
      "text/plain": [
       "Sigma(nx.Graph with 4,906 nodes and 17,491 edges)"
      ]
     },
     "execution_count": 1,
     "metadata": {},
     "output_type": "execute_result"
    }
   ],
   "source": [
    "import itertools\n",
    "\n",
    "from pymed import PubMed\n",
    "\n",
    "import networkx as nx\n",
    "from ipysigma import Sigma\n",
    "\n",
    "\n",
    "# Create a PubMed object that GraphQL can use to query\n",
    "# Note that the parameters are not required but kindly requested by PubMed Central\n",
    "# https://www.ncbi.nlm.nih.gov/pmc/tools/developers/\n",
    "pubmed = PubMed(tool=\"Author co-occurence analysis\", email=\"my@email.address\")\n",
    "\n",
    "# Create a GraphQL query in plain text\n",
    "QUERY = \"occupational health[Title]\"\n",
    "\n",
    "\n",
    "# Execute the query against the API\n",
    "results = list(pubmed.query(QUERY, max_results=1344))\n",
    "\n",
    "# Create an edge for each combination of authors (co-authorship)\n",
    "edges = list(\n",
    "    itertools.chain.from_iterable(\n",
    "        [\n",
    "            [combination for combination in itertools.combinations(co_author_list, 2)]\n",
    "            for co_author_list in [\n",
    "                [\n",
    "                    f'{author[\"lastname\"]} {author[\"firstname\"]}'\n",
    "                    for author in article.authors\n",
    "                ]\n",
    "                for article in results\n",
    "            ]\n",
    "        ]\n",
    "    )\n",
    ")\n",
    "\n",
    "# Create a networkx graph\n",
    "G = nx.Graph()\n",
    "G.add_edges_from([(edge[0], edge[1], {\"weight\": edges.count(edge)}) for edge in edges])\n",
    "\n",
    "# Create a Sigma graph\n",
    "Sigma(\n",
    "    G,\n",
    "    node_size=G.degree,\n",
    "    default_edge_type=\"curve\",\n",
    "    node_border_color_from=\"node\",\n",
    "    node_label_size=G.degree,\n",
    "    label_font=\"cursive\",\n",
    "    node_metrics={\"community\": \"louvain\"},\n",
    "    node_color=\"community\",\n",
    "    label_density=3,\n",
    ")"
   ]
  }
 ],
 "metadata": {
  "kernelspec": {
   "display_name": "pymed",
   "language": "python",
   "name": "python3"
  },
  "language_info": {
   "codemirror_mode": {
    "name": "ipython",
    "version": 3
   },
   "file_extension": ".py",
   "mimetype": "text/x-python",
   "name": "python",
   "nbconvert_exporter": "python",
   "pygments_lexer": "ipython3",
   "version": "3.12.1"
  }
 },
 "nbformat": 4,
 "nbformat_minor": 2
}
