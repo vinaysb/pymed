{
 "cells": [
  {
   "cell_type": "markdown",
   "metadata": {},
   "source": [
    "# Example - Simple search\n",
    "This example shows how to perform a simple search on the PubMed database and retrieve information about the relevant articles."
   ]
  },
  {
   "cell_type": "code",
   "execution_count": 1,
   "metadata": {},
   "outputs": [
    {
     "name": "stdout",
     "output_type": "stream",
     "text": [
      "<class 'pymed.article.Paper'>\n",
      "{\n",
      "    \"conclusions\": \"\",\n",
      "    \"copyrights\": \"\\u00a9 The Author(s) 2023. Published by Oxford University Press on behalf of the Society of Occupational Medicine.\",\n",
      "    \"journal\": \"Occupational medicine (Oxford, England)\",\n",
      "    \"keywords\": [],\n",
      "    \"methods\": \"\",\n",
      "    \"results\": \"Fifteen focus groups were conducted with OSH/HR professionals (n\\u2005=\\u200560) from various occupational settings. Three levels of organizational preparedness were identified: 'early awareness and preparation'; 'unaware and not ready' and 'aware, but not ready'. Most organizations were aware of the COVID-19 severity, but not fully prepared for the pandemic, especially stand-alone enterprises that may not have sufficient resources to cope with an unanticipated crisis. The experiences shared by OSH professionals illustrate their agility in applying risk management and control skills to unanticipated public/occupational health crises that arise.\",\n",
      "    \"xml\": \"<Element 'PubmedArticle' at 0x114b6f470>\"\n",
      "}\n",
      "<class 'pymed.article.Paper'>\n",
      "{\n",
      "    \"conclusions\": \"\",\n",
      "    \"copyrights\": \"\",\n",
      "    \"journal\": \"Frontiers in public health\",\n",
      "    \"keywords\": [\n",
      "        \"burnout\",\n",
      "        \"healthcare\",\n",
      "        \"healthcare professional (HCP)\",\n",
      "        \"occupational health\",\n",
      "        \"organizational culture\",\n",
      "        \"safety culture\",\n",
      "        \"staff wellbeing\",\n",
      "        \"wellbeing\"\n",
      "    ],\n",
      "    \"methods\": \"\",\n",
      "    \"results\": \"\",\n",
      "    \"xml\": \"<Element 'PubmedArticle' at 0x114b78040>\"\n",
      "}\n",
      "<class 'pymed.article.Paper'>\n",
      "{\n",
      "    \"conclusions\": \"\",\n",
      "    \"copyrights\": \"\",\n",
      "    \"journal\": \"Problemy sotsial'noi gigieny, zdravookhraneniia i istorii meditsiny\",\n",
      "    \"keywords\": [\n",
      "        \"SciVal\",\n",
      "        \"collaboration\",\n",
      "        \"field weighted citation impact\",\n",
      "        \"keywords\",\n",
      "        \"medical science\",\n",
      "        \"publication activity Scopus\",\n",
      "        \"ranking\",\n",
      "        \"relevance\",\n",
      "        \"scholarly output\",\n",
      "        \"scientometrics\",\n",
      "        \"subject area\"\n",
      "    ],\n",
      "    \"methods\": \"\",\n",
      "    \"results\": \"\",\n",
      "    \"xml\": \"<Element 'PubmedArticle' at 0x114b7b3d0>\"\n",
      "}\n"
     ]
    }
   ],
   "source": [
    "from pymed import PubMed\n",
    "\n",
    "\n",
    "# Create a PubMed object that GraphQL can use to query\n",
    "# Note that the parameters are not required but kindly requested by PubMed Central\n",
    "# https://www.ncbi.nlm.nih.gov/pmc/tools/developers/\n",
    "pubmed = PubMed(tool=\"MyTool\", email=\"my@email.address\")\n",
    "\n",
    "# Create a GraphQL query in plain text\n",
    "QUERY = \"occupational health[Title]\"\n",
    "\n",
    "# Execute the query against the API\n",
    "results = pubmed.query(QUERY, max_results=250)\n",
    "\n",
    "# Loop over the retrieved articles and print three of them\n",
    "for article in list(results)[:3]:\n",
    "    # Print the type of object we've found (can be either PubMedBookArticle or PubMedArticle)\n",
    "    print(type(article))\n",
    "\n",
    "    # Print a JSON representation of the object\n",
    "    print(article.to_json())"
   ]
  }
 ],
 "metadata": {
  "kernelspec": {
   "display_name": "pymed",
   "language": "python",
   "name": "python3"
  },
  "language_info": {
   "codemirror_mode": {
    "name": "ipython",
    "version": 3
   },
   "file_extension": ".py",
   "mimetype": "text/x-python",
   "name": "python",
   "nbconvert_exporter": "python",
   "pygments_lexer": "ipython3",
   "version": "3.12.1"
  }
 },
 "nbformat": 4,
 "nbformat_minor": 2
}
